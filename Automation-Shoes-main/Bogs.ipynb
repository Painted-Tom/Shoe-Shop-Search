{
 "cells": [
  {
   "cell_type": "code",
   "execution_count": 1,
   "metadata": {},
   "outputs": [],
   "source": [
    "TAB_INDEX = 0\n",
    "with open('tab_index.txt', 'w') as f:\n",
    "  f.write('%d' % TAB_INDEX)"
   ]
  },
  {
   "cell_type": "code",
   "execution_count": 2,
   "metadata": {},
   "outputs": [
    {
     "name": "stderr",
     "output_type": "stream",
     "text": [
      "C:\\Users\\Tommy\\AppData\\Local\\Temp\\ipykernel_6212\\4045229515.py:14: DeprecationWarning: executable_path has been deprecated, please pass in a Service object\n",
      "  driver = webdriver.Chrome(executable_path='./chromedriver.exe', chrome_options=chrome_options)\n",
      "C:\\Users\\Tommy\\AppData\\Local\\Temp\\ipykernel_6212\\4045229515.py:14: DeprecationWarning: use options instead of chrome_options\n",
      "  driver = webdriver.Chrome(executable_path='./chromedriver.exe', chrome_options=chrome_options)\n"
     ]
    },
    {
     "name": "stdout",
     "output_type": "stream",
     "text": [
      "0 neo classic\n"
     ]
    },
    {
     "name": "stderr",
     "output_type": "stream",
     "text": [
      "C:\\Users\\Tommy\\AppData\\Local\\Temp\\ipykernel_6212\\4045229515.py:33: DeprecationWarning: find_element_by_* commands are deprecated. Please use find_element() instead\n",
      "  driver.find_element_by_tag_name('body').send_keys(Keys.TAB)\n"
     ]
    },
    {
     "name": "stdout",
     "output_type": "stream",
     "text": [
      "1 kids kicker\n",
      "2 crandall ii\n",
      "3 bmoc\n",
      "4 4h\n",
      "5 b moc\n",
      "6 rainbow\n",
      "7 women bmoc\n",
      "8 composite toe\n",
      "9 tie dye\n"
     ]
    }
   ],
   "source": [
    "from selenium import webdriver\n",
    "from selenium.webdriver.common.by import By\n",
    "from selenium.webdriver.common.action_chains import ActionChains\n",
    "from selenium.webdriver.common.keys import Keys\n",
    "from datetime import datetime\n",
    "from selenium.webdriver.chrome.options import Options\n",
    "\n",
    "import time\n",
    "import pandas as pd\n",
    "\n",
    "chrome_options = Options()\n",
    "chrome_options.add_argument(\"--window-size=1920,1080\")\n",
    "date = datetime.today().strftime('%Y-%m-%d')\n",
    "driver = webdriver.Chrome(executable_path='./chromedriver.exe', chrome_options=chrome_options)\n",
    "\n",
    "\n",
    "#if you want to change number of tabs, change this variable \n",
    "NUMBER_OF_TABS = 10\n",
    "FILE_NAME = 'example.csv'\n",
    " #file name reads from the excel docuement named\n",
    "df = pd.read_csv(FILE_NAME, delimiter= ',',header=None).squeeze()\n",
    "\n",
    " #save picture = true to take screen shot\n",
    "def search_bogsfootwear(search_term, save_picture = False): \n",
    "    button = driver.find_element(By.CLASS_NAME, u\"navbar--search\")\n",
    "    button.click()\n",
    "    search = driver.find_element(By.CLASS_NAME, u\"navbar__subnav--search-field\")\n",
    "    driver.implicitly_wait(10)\n",
    "    ActionChains(driver).move_to_element(search).click(search).perform()\n",
    "    search.send_keys(search_term)\n",
    "    search.send_keys(Keys.ENTER)\n",
    "    time.sleep(3)\n",
    "    driver.find_element_by_tag_name('body').send_keys(Keys.TAB) \n",
    "    if save_picture: driver.save_screenshot(search_term+\"-\"+date+\".png\")\n",
    "\n",
    "\n",
    " #turn save picture = true for pictures\n",
    "for i in range(NUMBER_OF_TABS):\n",
    "    try:\n",
    "        print(i+TAB_INDEX, df[i+TAB_INDEX])\n",
    "        driver.get(\"https://www.bogsfootwear.com/shop/index.html\")\n",
    "        search_bogsfootwear(df[i+TAB_INDEX], save_picture = False)\n",
    "        if i != NUMBER_OF_TABS-1:\n",
    "            driver.execute_script(\"window.open()\")\n",
    "            driver.switch_to.window(driver.window_handles[-1])\n",
    "    except:\n",
    "        continue\n",
    " #goes 10 tabs at a time\n",
    "TAB_INDEX += NUMBER_OF_TABS\n",
    "with open('tab_index.txt', 'w') as f:\n",
    "  f.write('%d' % TAB_INDEX)"
   ]
  },
  {
   "cell_type": "code",
   "execution_count": null,
   "metadata": {},
   "outputs": [],
   "source": []
  }
 ],
 "metadata": {
  "interpreter": {
   "hash": "b0fa6594d8f4cbf19f97940f81e996739fb7646882a419484c72d19e05852a7e"
  },
  "kernelspec": {
   "display_name": "Python 3.9.8 64-bit",
   "language": "python",
   "name": "python3"
  },
  "language_info": {
   "codemirror_mode": {
    "name": "ipython",
    "version": 3
   },
   "file_extension": ".py",
   "mimetype": "text/x-python",
   "name": "python",
   "nbconvert_exporter": "python",
   "pygments_lexer": "ipython3",
   "version": "3.10.2"
  },
  "orig_nbformat": 4
 },
 "nbformat": 4,
 "nbformat_minor": 2
}
