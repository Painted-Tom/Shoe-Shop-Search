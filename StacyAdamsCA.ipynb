{
 "cells": [
  {
   "cell_type": "code",
   "execution_count": 1,
   "metadata": {},
   "outputs": [],
   "source": [
    "TAB_INDEX = 0\n",
    "with open('tab_index.txt', 'w') as f:\n",
    "  f.write('%d' % TAB_INDEX)"
   ]
  },
  {
   "cell_type": "code",
   "execution_count": 3,
   "metadata": {},
   "outputs": [
    {
     "name": "stderr",
     "output_type": "stream",
     "text": [
      "C:\\Users\\Tommy\\AppData\\Local\\Temp\\ipykernel_10760\\2207943032.py:14: DeprecationWarning: executable_path has been deprecated, please pass in a Service object\n",
      "  driver = webdriver.Chrome(executable_path='C:/Users/Tommy/Desktop/Automation-Shoes/chromedriver.exe', chrome_options=chrome_options)\n",
      "C:\\Users\\Tommy\\AppData\\Local\\Temp\\ipykernel_10760\\2207943032.py:14: DeprecationWarning: use options instead of chrome_options\n",
      "  driver = webdriver.Chrome(executable_path='C:/Users/Tommy/Desktop/Automation-Shoes/chromedriver.exe', chrome_options=chrome_options)\n"
     ]
    },
    {
     "name": "stdout",
     "output_type": "stream",
     "text": [
      "0                          madison boots\n",
      "1                            dress shoes\n",
      "2                       mens dress shoes\n",
      "3                            double monk\n",
      "4                        black and white\n",
      "                     ...                \n",
      "295                gatto cap toe lace up\n",
      "296                     grey dress shoes\n",
      "297                         grey loafers\n",
      "298    griffyth cap toe lace up zip boot\n",
      "299                 hal plain toe oxford\n",
      "Name: 0, Length: 300, dtype: object\n",
      "10 wingtip oxford\n",
      "11 callan wingtip derby\n",
      "12 red dress shoes\n",
      "13 fletcher wingtip oxford\n",
      "14 mens boots\n",
      "15 finnegan wingtip lace up boot\n",
      "16 mens sandals\n",
      "17 summit wingtip lace up\n",
      "18 leather sole\n",
      "19 non slip\n"
     ]
    }
   ],
   "source": [
    "from selenium import webdriver\n",
    "from selenium.webdriver.common.by import By\n",
    "from selenium.webdriver.common.action_chains import ActionChains\n",
    "from selenium.webdriver.common.keys import Keys\n",
    "from datetime import datetime\n",
    "from selenium.webdriver.chrome.options import Options\n",
    "\n",
    "import time\n",
    "import pandas as pd\n",
    "\n",
    "chrome_options = Options()\n",
    "chrome_options.add_argument(\"--window-size=1920,1080\")\n",
    "date = datetime.today().strftime('%Y-%m-%d')\n",
    "driver = webdriver.Chrome(executable_path='./chromedriver.exe', chrome_options=chrome_options)\n",
    "\n",
    "\n",
    "#if you want to change number of tabs, change this variable \n",
    "NUMBER_OF_TABS = 10\n",
    "FILE_NAME = 'example.csv'\n",
    " #file name reads from the excel docuement named\n",
    "df = pd.read_csv(FILE_NAME, delimiter= ',',header=None).squeeze()\n",
    "print(df)\n",
    "\n",
    " #save picture = true to take screen shot\n",
    "def search_stacyadams(search_term, save_picture = False): \n",
    "    button = driver.find_element(By.ID, u\"searchBTN\")\n",
    "    button.click()\n",
    "    search = driver.find_element(By.ID, u\"main:txtSearchbox\")\n",
    "    driver.implicitly_wait(10)\n",
    "    ActionChains(driver).move_to_element(search).click(search).perform()\n",
    "    search.send_keys(search_term)\n",
    "    search.send_keys(Keys.ENTER)\n",
    "    time.sleep(3)\n",
    "    driver.find_element_by_tag_name('body').send_keys(Keys.TAB) \n",
    "    if save_picture: driver.save_screenshot(search_term+\"-\"+date+\".png\")\n",
    "\n",
    "\n",
    " #turn save picture = true for pictures\n",
    "for i in range(NUMBER_OF_TABS):\n",
    "    try:\n",
    "        print(i+TAB_INDEX, df[i+TAB_INDEX])\n",
    "        driver.get(\"https://www.stacyadams.ca/shop/index.html\")\n",
    "        search_stacyadams(df[i+TAB_INDEX], save_picture = False)\n",
    "        if i != NUMBER_OF_TABS-1:\n",
    "            driver.execute_script(\"window.open()\")\n",
    "            driver.switch_to.window(driver.window_handles[-1])\n",
    "    except:\n",
    "        continue\n",
    " #goes 10 tabs at a time\n",
    "TAB_INDEX += NUMBER_OF_TABS\n",
    "with open('tab_index.txt', 'w') as f:\n",
    "  f.write('%d' % TAB_INDEX)"
   ]
  },
  {
   "cell_type": "code",
   "execution_count": null,
   "metadata": {},
   "outputs": [],
   "source": []
  }
 ],
 "metadata": {
  "interpreter": {
   "hash": "2be5faf79681da6f2a61fdfdd5405d65d042280f7fba6178067603e3a2925119"
  },
  "kernelspec": {
   "display_name": "Python 3.10.2 64-bit",
   "language": "python",
   "name": "python3"
  },
  "language_info": {
   "codemirror_mode": {
    "name": "ipython",
    "version": 3
   },
   "file_extension": ".py",
   "mimetype": "text/x-python",
   "name": "python",
   "nbconvert_exporter": "python",
   "pygments_lexer": "ipython3",
   "version": "3.10.2"
  },
  "orig_nbformat": 4
 },
 "nbformat": 4,
 "nbformat_minor": 2
}
